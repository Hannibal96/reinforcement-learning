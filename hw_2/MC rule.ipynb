{
 "cells": [
  {
   "cell_type": "code",
   "execution_count": 1,
   "id": "criminal-dance",
   "metadata": {},
   "outputs": [],
   "source": [
    "import numpy as np"
   ]
  },
  {
   "cell_type": "code",
   "execution_count": 2,
   "id": "resistant-exemption",
   "metadata": {},
   "outputs": [],
   "source": [
    "bin = lambda x : ''.join(reversed( [str((x >> i) & 1) for i in range(jobs)] ) )\n",
    "def calc_cost_per_state(problem_table, state):\n",
    "    in_jobs = bin(state)\n",
    "    in_jobs=in_jobs[::-1]\n",
    "    cost = 0\n",
    "    for idx, job in enumerate(in_jobs):\n",
    "        if int(job):\n",
    "            cost += problem_table[1, idx]\n",
    "    return cost"
   ]
  },
  {
   "cell_type": "code",
   "execution_count": 3,
   "id": "polyphonic-completion",
   "metadata": {},
   "outputs": [],
   "source": [
    "def calc_p(problem_table, policy):\n",
    "    P = np.zeros([states, states])\n",
    "    for row in range(states):\n",
    "        for col in range(states):\n",
    "            curr_state = row\n",
    "            next_state = col\n",
    "            if curr_state > 0:\n",
    "                possible_next_state = curr_state - 2 ** (policy[curr_state] - 1)\n",
    "            if curr_state == 0:\n",
    "                if next_state == 0:\n",
    "                    P[row,col] = 1\n",
    "                else:\n",
    "                    P[row,col] = 0\n",
    "                continue\n",
    "            if next_state == possible_next_state:\n",
    "                P[row,col] = problem_table[0, policy[curr_state] - 1]\n",
    "            elif next_state == curr_state:\n",
    "                P[row,col] = 1 - problem_table[0, policy[curr_state] - 1]\n",
    "            else:\n",
    "                P[row,col] = 0\n",
    "    return P\n",
    "            "
   ]
  },
  {
   "cell_type": "code",
   "execution_count": 4,
   "id": "short-village",
   "metadata": {},
   "outputs": [],
   "source": [
    "def get_v(p, r):\n",
    "    return np.linalg.inv(np.identity(len(r))-0.9*p) * r\n",
    "\n",
    "def get_v_iteration(p, r):\n",
    "    v = np.ones([len(r)])\n",
    "    v_new = np.zeros([len(r)])\n",
    "    while not (v == v_new).all():\n",
    "        v = v_new.copy()\n",
    "        v_new = r + p @ v\n",
    "    return v"
   ]
  },
  {
   "cell_type": "code",
   "execution_count": 13,
   "id": "modified-first",
   "metadata": {},
   "outputs": [],
   "source": [
    "def get_policy_c(table, state):\n",
    "    in_jobs = bin(state)\n",
    "    in_jobs=in_jobs[::-1]\n",
    "    max_c = -1\n",
    "    max_idx = -1\n",
    "    for idx, job in enumerate(in_jobs):\n",
    "        if int(job):\n",
    "            cost = problem_table[1, idx]\n",
    "            if cost > max_c:\n",
    "                max_c = cost\n",
    "                max_idx = idx\n",
    "    return max_idx+1"
   ]
  },
  {
   "cell_type": "code",
   "execution_count": 7,
   "id": "intensive-missile",
   "metadata": {},
   "outputs": [],
   "source": [
    "jobs = 5\n",
    "states = 2 ** jobs\n",
    "cost = np.zeros([states])\n",
    "problem_table = np.array([\n",
    "    [0.6, 0.5, 0.3, 0.7, 0.1],\n",
    "    [1,     4,   6,   2,   9]\n",
    "])\n",
    "\n",
    "for state in range(states):\n",
    "    cost[state] = calc_cost_per_state(problem_table=problem_table, state=state)\n",
    "    \n",
    "policy = np.array([\n",
    "    0, 1, 2, 1, 3, 1, 3, 1,  # \n",
    "    4, 1, 4, 1, 4, 1, 4, 1,  # \n",
    "    5, 1, 5, 1, 5, 1, 5, 1,  #\n",
    "    5, 1, 5, 1, 5, 1, 5, 1   # \n",
    "])\n",
    "p = calc_p(problem_table, policy)\n"
   ]
  },
  {
   "cell_type": "code",
   "execution_count": null,
   "id": "recovered-bonus",
   "metadata": {
    "scrolled": true
   },
   "outputs": [],
   "source": [
    "get_v_iteration(p,cost)"
   ]
  },
  {
   "cell_type": "code",
   "execution_count": null,
   "id": "artificial-casino",
   "metadata": {},
   "outputs": [],
   "source": [
    "np.identity(len(cost))-p"
   ]
  },
  {
   "cell_type": "code",
   "execution_count": null,
   "id": "composed-escape",
   "metadata": {},
   "outputs": [],
   "source": [
    "problem_table[0]"
   ]
  },
  {
   "cell_type": "code",
   "execution_count": null,
   "id": "noticed-clothing",
   "metadata": {},
   "outputs": [],
   "source": [
    "get_policy_c(problem_table, 14)"
   ]
  },
  {
   "cell_type": "code",
   "execution_count": null,
   "id": "comparative-grocery",
   "metadata": {},
   "outputs": [],
   "source": []
  }
 ],
 "metadata": {
  "kernelspec": {
   "display_name": "Python 3",
   "language": "python",
   "name": "python3"
  },
  "language_info": {
   "codemirror_mode": {
    "name": "ipython",
    "version": 3
   },
   "file_extension": ".py",
   "mimetype": "text/x-python",
   "name": "python",
   "nbconvert_exporter": "python",
   "pygments_lexer": "ipython3",
   "version": "3.6.13"
  }
 },
 "nbformat": 4,
 "nbformat_minor": 5
}
