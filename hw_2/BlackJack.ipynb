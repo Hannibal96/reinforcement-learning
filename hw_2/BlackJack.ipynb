{
 "cells": [
  {
   "cell_type": "code",
   "execution_count": 1,
   "id": "polar-speed",
   "metadata": {},
   "outputs": [],
   "source": [
    "import numpy as np"
   ]
  },
  {
   "cell_type": "code",
   "execution_count": 2,
   "id": "delayed-pregnancy",
   "metadata": {
    "scrolled": true
   },
   "outputs": [],
   "source": [
    "P_dealer = (1/13) * np.matrix([\n",
    "    #2  3  4  5  6  7  8  9  10 11 12 13 14 15 16 17 18 19 20 21 Bust  \n",
    "    [0, 0, 1, 1, 1, 1, 1, 1, 1, 1, 4, 1, 0, 0, 0, 0, 0, 0, 0, 0, 0], # 2\n",
    "    [0, 0, 0, 1, 1, 1, 1, 1, 1, 1, 1, 4, 1, 0, 0, 0, 0, 0, 0, 0, 0], # 3\n",
    "    [0, 0, 0, 0, 1, 1, 1, 1, 1, 1, 1, 1, 4, 1, 0, 0, 0, 0, 0, 0, 0], # 4\n",
    "    [0, 0, 0, 0, 0, 1, 1, 1, 1, 1, 1, 1, 1, 4, 1, 0, 0, 0, 0, 0, 0], # 5\n",
    "    [0, 0, 0, 0, 0, 0, 1, 1, 1, 1, 1, 1, 1, 1, 4, 1, 0, 0, 0, 0, 0], # 6\n",
    "    [0, 0, 0, 0, 0, 0, 0, 1, 1, 1, 1, 1, 1, 1, 1, 4, 1, 0, 0, 0, 0], # 7\n",
    "    [0, 0, 0, 0, 0, 0, 0, 0, 1, 1, 1, 1, 1, 1, 1, 1, 4, 1, 0, 0, 0], # 8\n",
    "    [0, 0, 0, 0, 0, 0, 0, 0, 0, 1, 1, 1, 1, 1, 1, 1, 1, 4, 1, 0, 0], # 9\n",
    "    [0, 0, 0, 0, 0, 0, 0, 0, 0, 0, 1, 1, 1, 1, 1, 1, 1, 1, 4, 1, 0], # 10\n",
    "    [0, 0, 0, 0, 0, 0, 0, 0, 0, 0, 0, 1, 1, 1, 1, 1, 1, 1, 1, 4, 1], # 11\n",
    "    [0, 0, 0, 0, 0, 0, 0, 0, 0, 0, 0, 0, 1, 1, 1, 1, 1, 1, 1, 1, 5], # 12\n",
    "    [0, 0, 0, 0, 0, 0, 0, 0, 0, 0, 0, 0, 0, 1, 1, 1, 1, 1, 1, 1, 6], # 13\n",
    "    [0, 0, 0, 0, 0, 0, 0, 0, 0, 0, 0, 0, 0, 0, 1, 1, 1, 1, 1, 1, 7], # 14\n",
    "    [0, 0, 0, 0, 0, 0, 0, 0, 0, 0, 0, 0, 0, 0, 0, 1, 1, 1, 1, 1, 8], # 15\n",
    "    [0, 0, 0, 0, 0, 0, 0, 0, 0, 0, 0, 0, 0, 0, 0, 0, 1, 1, 1, 1, 9], # 16\n",
    "    [0, 0, 0, 0, 0, 0, 0, 0, 0, 0, 0, 0, 0, 0, 0, 13,0, 0, 0, 0, 0], # 17\n",
    "    [0, 0, 0, 0, 0, 0, 0, 0, 0, 0, 0, 0, 0, 0, 0, 0, 13,0, 0, 0, 0], # 18\n",
    "    [0, 0, 0, 0, 0, 0, 0, 0, 0, 0, 0, 0, 0, 0, 0, 0, 0, 13,0, 0, 0], # 19\n",
    "    [0, 0, 0, 0, 0, 0, 0, 0, 0, 0, 0, 0, 0, 0, 0, 0, 0, 0,13, 0, 0], # 20\n",
    "    [0, 0, 0, 0, 0, 0, 0, 0, 0, 0, 0, 0, 0, 0, 0, 0, 0, 0, 0,13, 0], # 21\n",
    "    [0, 0, 0, 0, 0, 0, 0, 0, 0, 0, 0, 0, 0, 0, 0, 0, 0, 0, 0,0, 13], # Bust\n",
    "])\n",
    "f_P_dealer = P_dealer ** 10\n",
    "              \n",
    "#print(f_P_dealer)"
   ]
  },
  {
   "cell_type": "code",
   "execution_count": 3,
   "id": "regulation-ensemble",
   "metadata": {},
   "outputs": [],
   "source": [
    "P_player_hit = (1/13) * np.matrix([\n",
    "    #4  5  6  7  8  9  10 11 12 13 14 15 16 17 18 19 20 21 Bust  \n",
    "    [0, 0, 1, 1, 1, 1, 1, 1, 1, 1, 4, 1, 0, 0, 0, 0, 0, 0, 0], # 4\n",
    "    [0, 0, 0, 1, 1, 1, 1, 1, 1, 1, 1, 4, 1, 0, 0, 0, 0, 0, 0], # 5\n",
    "    [0, 0, 0, 0, 1, 1, 1, 1, 1, 1, 1, 1, 4, 1, 0, 0, 0, 0, 0], # 6\n",
    "    [0, 0, 0, 0, 0, 1, 1, 1, 1, 1, 1, 1, 1, 4, 1, 0, 0, 0, 0], # 7\n",
    "    [0, 0, 0, 0, 0, 0, 1, 1, 1, 1, 1, 1, 1, 1, 4, 1, 0, 0, 0], # 8\n",
    "    [0, 0, 0, 0, 0, 0, 0, 1, 1, 1, 1, 1, 1, 1, 1, 4, 1, 0, 0], # 9\n",
    "    [0, 0, 0, 0, 0, 0, 0, 0, 1, 1, 1, 1, 1, 1, 1, 1, 4, 1, 0], # 10\n",
    "    [0, 0, 0, 0, 0, 0, 0, 0, 0, 1, 1, 1, 1, 1, 1, 1, 1, 4, 1], # 11\n",
    "    [0, 0, 0, 0, 0, 0, 0, 0, 0, 0, 1, 1, 1, 1, 1, 1, 1, 1, 5], # 12\n",
    "    [0, 0, 0, 0, 0, 0, 0, 0, 0, 0, 0, 1, 1, 1, 1, 1, 1, 1, 6], # 13\n",
    "    [0, 0, 0, 0, 0, 0, 0, 0, 0, 0, 0, 0, 1, 1, 1, 1, 1, 1, 7], # 14\n",
    "    [0, 0, 0, 0, 0, 0, 0, 0, 0, 0, 0, 0, 0, 1, 1, 1, 1, 1, 8], # 15\n",
    "    [0, 0, 0, 0, 0, 0, 0, 0, 0, 0, 0, 0, 0, 0, 1, 1, 1, 1, 9], # 16\n",
    "    [0, 0, 0, 0, 0, 0, 0, 0, 0, 0, 0, 0, 0, 0, 0, 1, 1, 1,10], # 17\n",
    "    [0, 0, 0, 0, 0, 0, 0, 0, 0, 0, 0, 0, 0, 0, 0, 0, 1, 1,11], # 18\n",
    "    [0, 0, 0, 0, 0, 0, 0, 0, 0, 0, 0, 0, 0, 0, 0, 0, 0, 1,12], # 19\n",
    "    [0, 0, 0, 0, 0, 0, 0, 0, 0, 0, 0, 0, 0, 0, 0, 0, 0, 0,13], # 20\n",
    "    [0, 0, 0, 0, 0, 0, 0, 0, 0, 0, 0, 0, 0, 0, 0, 0, 0, 0,13], # 21\n",
    "    [0, 0, 0, 0, 0, 0, 0, 0, 0, 0, 0, 0, 0, 0, 0, 0, 0, 0,13], # Bust\n",
    "])\n",
    "P_player_stick = np.matrix([\n",
    "    #4  5  6  7  8  9  10 11 12 13 14 15 16 17 18 19 20 21 Stick  \n",
    "    [0, 0, 0, 0, 0, 0, 0, 0, 0, 0, 0, 0, 0, 0, 0, 0, 0, 0, 1], # 4\n",
    "    [0, 0, 0, 0, 0, 0, 0, 0, 0, 0, 0, 0, 0, 0, 0, 0, 0, 0, 1], # 5\n",
    "    [0, 0, 0, 0, 0, 0, 0, 0, 0, 0, 0, 0, 0, 0, 0, 0, 0, 0, 1], # 6\n",
    "    [0, 0, 0, 0, 0, 0, 0, 0, 0, 0, 0, 0, 0, 0, 0, 0, 0, 0, 1], # 7\n",
    "    [0, 0, 0, 0, 0, 0, 0, 0, 0, 0, 0, 0, 0, 0, 0, 0, 0, 0, 1], # 8\n",
    "    [0, 0, 0, 0, 0, 0, 0, 0, 0, 0, 0, 0, 0, 0, 0, 0, 0, 0, 1], # 9\n",
    "    [0, 0, 0, 0, 0, 0, 0, 0, 0, 0, 0, 0, 0, 0, 0, 0, 0, 0, 1], # 10\n",
    "    [0, 0, 0, 0, 0, 0, 0, 0, 0, 0, 0, 0, 0, 0, 0, 0, 0, 0, 1], # 11\n",
    "    [0, 0, 0, 0, 0, 0, 0, 0, 0, 0, 0, 0, 0, 0, 0, 0, 0, 0, 1], # 12\n",
    "    [0, 0, 0, 0, 0, 0, 0, 0, 0, 0, 0, 0, 0, 0, 0, 0, 0, 0, 1], # 13\n",
    "    [0, 0, 0, 0, 0, 0, 0, 0, 0, 0, 0, 0, 0, 0, 0, 0, 0, 0, 1], # 14\n",
    "    [0, 0, 0, 0, 0, 0, 0, 0, 0, 0, 0, 0, 0, 0, 0, 0, 0, 0, 1], # 15\n",
    "    [0, 0, 0, 0, 0, 0, 0, 0, 0, 0, 0, 0, 0, 0, 0, 0, 0, 0, 1], # 16\n",
    "    [0, 0, 0, 0, 0, 0, 0, 0, 0, 0, 0, 0, 0, 0, 0, 0, 0, 0, 1], # 17\n",
    "    [0, 0, 0, 0, 0, 0, 0, 0, 0, 0, 0, 0, 0, 0, 0, 0, 0, 0, 1], # 18\n",
    "    [0, 0, 0, 0, 0, 0, 0, 0, 0, 0, 0, 0, 0, 0, 0, 0, 0, 0, 1], # 19\n",
    "    [0, 0, 0, 0, 0, 0, 0, 0, 0, 0, 0, 0, 0, 0, 0, 0, 0, 0, 1], # 20\n",
    "    [0, 0, 0, 0, 0, 0, 0, 0, 0, 0, 0, 0, 0, 0, 0, 0, 0, 0, 1], # 21\n",
    "    [0, 0, 0, 0, 0, 0, 0, 0, 0, 0, 0, 0, 0, 0, 0, 0, 0, 0, 1], # Stick\n",
    "])"
   ]
  },
  {
   "cell_type": "code",
   "execution_count": 4,
   "id": "liberal-saturday",
   "metadata": {},
   "outputs": [],
   "source": [
    "R_player_hit = (-1/13) * np.matrix([   \n",
    "    [0], # 4\n",
    "    [0], # 5\n",
    "    [0], # 6\n",
    "    [0], # 7\n",
    "    [0], # 8\n",
    "    [0], # 9\n",
    "    [0], # 10\n",
    "    [1], # 11\n",
    "    [5], # 12\n",
    "    [6], # 13\n",
    "    [7], # 14\n",
    "    [8], # 15\n",
    "    [9], # 16\n",
    "    [10], # 17\n",
    "    [11], # 18\n",
    "    [12], # 19\n",
    "    [13], # 20\n",
    "    [13], # 21\n",
    "    [0], # Bust\n",
    "])"
   ]
  },
  {
   "cell_type": "code",
   "execution_count": 5,
   "id": "selective-austin",
   "metadata": {},
   "outputs": [],
   "source": [
    "def calc_player_stick_reward(f_P_dealer):\n",
    "    R_player_stick = np.zeros([19, 10])\n",
    "    for player_sum in range(0,19): # 4-21 + bust\n",
    "        for dealer_sum in range(0,10): # 2-11\n",
    "            delaer_bust = f_P_dealer[dealer_sum, 20]\n",
    "            draw = f_P_dealer[dealer_sum, player_sum+2]\n",
    "            player_win = f_P_dealer[dealer_sum, 0:player_sum+2].sum() # win by points\n",
    "            player_lose = 1-draw-delaer_bust-player_win # lose by points\n",
    "            R_player_stick[player_sum, dealer_sum] = 0*draw + 1*(delaer_bust+player_win) -1 * (player_lose)\n",
    "            if player_sum == 18:\n",
    "                R_player_stick[player_sum, dealer_sum] = 0\n",
    "    return R_player_stick\n",
    "\n",
    "R_player_stick = calc_player_stick_reward(f_P_dealer)"
   ]
  },
  {
   "cell_type": "code",
   "execution_count": 6,
   "id": "nuclear-dream",
   "metadata": {
    "scrolled": true
   },
   "outputs": [],
   "source": [
    "def conver_value(card):\n",
    "    if card == 1:\n",
    "        return 11\n",
    "    if card == 11 or card == 12 or card == 13:\n",
    "        return 10\n",
    "    return card\n",
    "\n",
    "def simulator(player_sum_in, dealer_sum_in, hit=None):\n",
    "    total_reward = 0\n",
    "    iteration = 100000\n",
    "    for i in range(iteration):\n",
    "        dealer_sum = dealer_sum_in\n",
    "        player_sum = player_sum_in\n",
    "        \n",
    "        if hit:\n",
    "            player_sum += conver_value(np.random.randint(1,14))\n",
    "        if player_sum > 21:\n",
    "            total_reward += -1\n",
    "            continue\n",
    "            \n",
    "        while dealer_sum < 17:\n",
    "            dealer_sum += conver_value(np.random.randint(1,14))\n",
    "        curr_reward = 0\n",
    "        if dealer_sum > 21:\n",
    "            curr_reward = 1\n",
    "        elif dealer_sum < player_sum:\n",
    "            curr_reward = 1\n",
    "        elif dealer_sum > player_sum:\n",
    "            curr_reward = -1\n",
    "        total_reward += curr_reward\n",
    "        #print(dealer_sum, curr_reward)\n",
    "    return (float(total_reward)/iteration)"
   ]
  },
  {
   "cell_type": "code",
   "execution_count": 7,
   "id": "nearby-dutch",
   "metadata": {},
   "outputs": [
    {
     "data": {
      "text/plain": [
       "-0.50635"
      ]
     },
     "execution_count": 7,
     "metadata": {},
     "output_type": "execute_result"
    }
   ],
   "source": [
    "simulator(player_sum_in=13, dealer_sum_in=11, hit=True)"
   ]
  },
  {
   "cell_type": "code",
   "execution_count": 8,
   "id": "trained-remains",
   "metadata": {},
   "outputs": [],
   "source": [
    "def calc_future_val_hit(P_player_hit_, curr_sum, V_, dealer_sum_):\n",
    "    sum = 0\n",
    "    for next_player_sum in range(0, 19):\n",
    "        sum += P_player_hit[curr_sum, next_player_sum] * V_[next_player_sum, dealer_sum_]\n",
    "    return sum\n",
    "\n",
    "def value_iteration(R_player_hit_, R_player_stick_, P_player_hit_, P_player_stick_):\n",
    "    V = np.ones([19, 10])\n",
    "    V_new = np.zeros([19, 10])\n",
    "    while not (V == V_new).all():\n",
    "        V = V_new.copy()\n",
    "        for player_sum in range(0, 19):\n",
    "            for dealer_sum in range(0, 10):\n",
    "                temp_v_hit = R_player_hit[player_sum] + calc_future_val_hit(P_player_hit_=P_player_hit, curr_sum=player_sum, V_=V, dealer_sum_=dealer_sum)\n",
    "                temp_v_stick = R_player_stick[player_sum, dealer_sum] + V[18, dealer_sum]\n",
    "                V_new[player_sum, dealer_sum] = max(temp_v_hit, temp_v_stick)\n",
    "        #print(V)\n",
    "        #print(\"*\"*50)\n",
    "    return V"
   ]
  },
  {
   "cell_type": "code",
   "execution_count": 9,
   "id": "spoken-twenty",
   "metadata": {
    "scrolled": true
   },
   "outputs": [
    {
     "name": "stdout",
     "output_type": "stream",
     "text": [
      "[[-0.044 -0.013  0.018  0.057  0.056 -0.154 -0.221 -0.295 -0.378 -0.351]\n",
      " [-0.053 -0.021  0.01   0.049  0.048 -0.182 -0.246 -0.316 -0.392 -0.359]\n",
      " [-0.056 -0.024  0.008  0.047  0.046 -0.185 -0.259 -0.324 -0.397 -0.362]\n",
      " [-0.018  0.013  0.043  0.079  0.089 -0.076 -0.217 -0.295 -0.368 -0.333]\n",
      " [ 0.061  0.089  0.117  0.149  0.164  0.073 -0.068 -0.215 -0.303 -0.27 ]\n",
      " [ 0.149  0.175  0.2    0.229  0.241  0.162  0.09  -0.057 -0.215 -0.198]\n",
      " [ 0.253  0.276  0.298  0.324  0.334  0.251  0.193  0.114 -0.044 -0.096]\n",
      " [ 0.241  0.259  0.277  0.298  0.306  0.229  0.172  0.107  0.018 -0.037]\n",
      " [-0.173 -0.136 -0.101 -0.055 -0.064 -0.269 -0.323 -0.385 -0.458 -0.463]\n",
      " [-0.173 -0.136 -0.101 -0.055 -0.064 -0.318 -0.368 -0.426 -0.494 -0.467]\n",
      " [-0.173 -0.136 -0.101 -0.055 -0.064 -0.364 -0.411 -0.465 -0.529 -0.467]\n",
      " [-0.173 -0.136 -0.101 -0.055 -0.064 -0.408 -0.452 -0.499 -0.54  -0.467]\n",
      " [-0.173 -0.136 -0.101 -0.055 -0.064 -0.425 -0.463 -0.499 -0.54  -0.467]\n",
      " [-0.052 -0.02   0.013  0.048  0.071 -0.068 -0.346 -0.389 -0.438 -0.372]\n",
      " [ 0.193  0.217  0.242  0.264  0.308  0.422  0.127 -0.163 -0.226 -0.175]\n",
      " [ 0.437  0.454  0.471  0.485  0.513  0.632  0.609  0.302 -0.008  0.029]\n",
      " [ 0.671  0.68   0.689  0.698  0.714  0.783  0.801  0.767  0.441  0.233]\n",
      " [ 0.892  0.895  0.898  0.901  0.906  0.929  0.934  0.942  0.891  0.667]\n",
      " [ 0.     0.     0.     0.     0.     0.     0.     0.     0.     0.   ]]\n"
     ]
    }
   ],
   "source": [
    "optimal_v = value_iteration(R_player_hit_=R_player_hit, R_player_stick_=R_player_stick, P_player_hit_=P_player_hit, P_player_stick_=P_player_stick)\n",
    "print(np.round(optimal_v,3))"
   ]
  },
  {
   "cell_type": "code",
   "execution_count": 10,
   "id": "vietnamese-still",
   "metadata": {},
   "outputs": [
    {
     "name": "stdout",
     "output_type": "stream",
     "text": [
      "[[ 1.  1.  1.  1.  1.  1.  1.  1.  1.  1.]\n",
      " [ 1.  1.  1.  1.  1.  1.  1.  1.  1.  1.]\n",
      " [ 1.  1.  1.  1.  1.  1.  1.  1.  1.  1.]\n",
      " [ 1.  1.  1.  1.  1.  1.  1.  1.  1.  1.]\n",
      " [ 1.  1.  1.  1.  1.  1.  1.  1.  1.  1.]\n",
      " [ 1.  1.  1.  1.  1.  1.  1.  1.  1.  1.]\n",
      " [ 1.  1.  1.  1.  1.  1.  1.  1.  1.  1.]\n",
      " [ 1.  1.  1.  1.  1.  1.  1.  1.  1.  1.]\n",
      " [-1. -1. -1. -1. -1.  1.  1.  1.  1.  1.]\n",
      " [-1. -1. -1. -1. -1.  1.  1.  1.  1. -1.]\n",
      " [-1. -1. -1. -1. -1.  1.  1.  1.  1. -1.]\n",
      " [-1. -1. -1. -1. -1.  1.  1. -1. -1. -1.]\n",
      " [-1. -1. -1. -1. -1. -1. -1. -1. -1. -1.]\n",
      " [-1. -1. -1. -1. -1. -1. -1. -1. -1. -1.]\n",
      " [-1. -1. -1. -1. -1. -1. -1. -1. -1. -1.]\n",
      " [-1. -1. -1. -1. -1. -1. -1. -1. -1. -1.]\n",
      " [-1. -1. -1. -1. -1. -1. -1. -1. -1. -1.]\n",
      " [-1. -1. -1. -1. -1. -1. -1. -1. -1. -1.]\n",
      " [-1. -1. -1. -1. -1. -1. -1. -1. -1. -1.]]\n"
     ]
    }
   ],
   "source": [
    "def get_policy(R_player_hit_, R_player_stick_, P_player_hit_, P_player_stick_, optimal_V):\n",
    "    policy = np.zeros([19, 10])\n",
    "    for player_sum in range(0, 19):\n",
    "        for dealer_sum in range(0, 10):\n",
    "            temp_v_hit = R_player_hit[player_sum] + calc_future_val_hit(P_player_hit_=P_player_hit, curr_sum=player_sum, V_=optimal_V, dealer_sum_=dealer_sum)\n",
    "            temp_v_stick = R_player_stick[player_sum, dealer_sum] + optimal_V[18, dealer_sum]\n",
    "            if temp_v_hit > temp_v_stick:\n",
    "                policy[player_sum, dealer_sum] = 1\n",
    "            else:\n",
    "                policy[player_sum, dealer_sum] = -1\n",
    "    return policy\n",
    "\n",
    "optimal_policy = get_policy(R_player_hit_=R_player_hit, R_player_stick_=R_player_stick, \n",
    "                            P_player_hit_=P_player_hit, P_player_stick_=P_player_stick,optimal_V=optimal_v)\n",
    "print(optimal_policy)"
   ]
  },
  {
   "cell_type": "raw",
   "id": "brilliant-barrier",
   "metadata": {},
   "source": [
    "Dealer         2      3      4      5      6      7      8      9      10     ace\n",
    "Player 4  [[-0.044 -0.013  0.018  0.057  0.056 -0.154 -0.221 -0.295 -0.378 -0.351]\n",
    "       5   [-0.053 -0.021  0.01   0.049  0.048 -0.182 -0.246 -0.316 -0.392 -0.359]\n",
    "       6   [-0.056 -0.024  0.008  0.047  0.046 -0.185 -0.259 -0.324 -0.397 -0.362]\n",
    "       7   [-0.018  0.013  0.043  0.079  0.089 -0.076 -0.217 -0.295 -0.368 -0.333]\n",
    "       8   [ 0.061  0.089  0.117  0.149  0.164  0.073 -0.068 -0.215 -0.303 -0.27 ]\n",
    "       9   [ 0.149  0.175  0.2    0.229  0.241  0.162  0.09  -0.057 -0.215 -0.198]\n",
    "       10  [ 0.253  0.276  0.298  0.324  0.334  0.251  0.193  0.114 -0.044 -0.096]\n",
    "       11  [ 0.241  0.259  0.277  0.298  0.306  0.229  0.172  0.107  0.018 -0.037]\n",
    "       12  [-0.173 -0.136 -0.101 -0.055 -0.064 -0.269 -0.323 -0.385 -0.458 -0.463]\n",
    "       13  [-0.173 -0.136 -0.101 -0.055 -0.064 -0.318 -0.368 -0.426 -0.494 -0.467]\n",
    "       14  [-0.173 -0.136 -0.101 -0.055 -0.064 -0.364 -0.411 -0.465 -0.529 -0.467]\n",
    "       15  [-0.173 -0.136 -0.101 -0.055 -0.064 -0.408 -0.452 -0.499 -0.54  -0.467]\n",
    "       16  [-0.173 -0.136 -0.101 -0.055 -0.064 -0.425 -0.463 -0.499 -0.54  -0.467]\n",
    "       17  [-0.052 -0.02   0.013  0.048  0.071 -0.068 -0.346 -0.389 -0.438 -0.372]\n",
    "       18  [ 0.193  0.217  0.242  0.264  0.308  0.422  0.127 -0.163 -0.226 -0.175]\n",
    "       19  [ 0.437  0.454  0.471  0.485  0.513  0.632  0.609  0.302 -0.008  0.029]\n",
    "       20  [ 0.671  0.68   0.689  0.698  0.714  0.783  0.801  0.767  0.441  0.233]\n",
    "       21  [ 0.892  0.895  0.898  0.901  0.906  0.929  0.934  0.942  0.891  0.667]\n",
    "       end [ 0.     0.     0.     0.     0.     0.     0.     0.     0.     0.   ]]"
   ]
  },
  {
   "cell_type": "raw",
   "id": "dietary-sister",
   "metadata": {},
   "source": [
    "Dealer       2   3   4   5   6   7   8   9   10  ace\n",
    "player\t4  [ 1.  1.  1.  1.  1.  1.  1.  1.  1.  1.]\n",
    "\t\t5  [ 1.  1.  1.  1.  1.  1.  1.  1.  1.  1.]\n",
    "\t\t6  [ 1.  1.  1.  1.  1.  1.  1.  1.  1.  1.]\n",
    "\t\t7  [ 1.  1.  1.  1.  1.  1.  1.  1.  1.  1.]\n",
    "\t\t8  [ 1.  1.  1.  1.  1.  1.  1.  1.  1.  1.]\n",
    "\t\t9  [ 1.  1.  1.  1.  1.  1.  1.  1.  1.  1.]\n",
    "\t\t10 [ 1.  1.  1.  1.  1.  1.  1.  1.  1.  1.]\n",
    "\t\t11 [ 1.  1.  1.  1.  1.  1.  1.  1.  1.  1.]\n",
    "\t\t12 [-1. -1. -1. -1. -1.  1.  1.  1.  1.  1.]\n",
    "\t\t13 [-1. -1. -1. -1. -1.  1.  1.  1.  1. -1.]\n",
    "\t\t14 [-1. -1. -1. -1. -1.  1.  1.  1.  1. -1.]\n",
    "\t\t15 [-1. -1. -1. -1. -1.  1.  1. -1. -1. -1.]\n",
    "\t\t16 [-1. -1. -1. -1. -1. -1. -1. -1. -1. -1.]\n",
    "\t\t17 [-1. -1. -1. -1. -1. -1. -1. -1. -1. -1.]\n",
    "\t\t18 [-1. -1. -1. -1. -1. -1. -1. -1. -1. -1.]\n",
    "\t\t19 [-1. -1. -1. -1. -1. -1. -1. -1. -1. -1.]\n",
    "\t\t20 [-1. -1. -1. -1. -1. -1. -1. -1. -1. -1.]\n",
    "\t\t21 [-1. -1. -1. -1. -1. -1. -1. -1. -1. -1.]\n",
    "\tbusted [-1. -1. -1. -1. -1. -1. -1. -1. -1. -1.]]"
   ]
  },
  {
   "cell_type": "code",
   "execution_count": 15,
   "id": "mathematical-rubber",
   "metadata": {},
   "outputs": [
    {
     "name": "stdout",
     "output_type": "stream",
     "text": [
      "stick better\n",
      "stick better\n",
      "stick better\n",
      "stick better\n",
      "stick better\n",
      "hit better\n",
      "hit better\n",
      "hit better\n",
      "hit better\n",
      "stick better\n"
     ]
    }
   ],
   "source": [
    "for i in range(2,12):\n",
    "    stick_val = simulator(player_sum_in=13, dealer_sum_in=i)\n",
    "    hit_val = simulator(player_sum_in=13, dealer_sum_in=i, hit=True)\n",
    "    #print(\"stick:\", stick_val)\n",
    "    #print(\"hit:\", hit_val)\n",
    "    if hit_val > stick_val:\n",
    "        print(\"hit better\")\n",
    "    else:\n",
    "        print(\"stick better\")"
   ]
  },
  {
   "cell_type": "code",
   "execution_count": null,
   "id": "native-morgan",
   "metadata": {},
   "outputs": [],
   "source": []
  }
 ],
 "metadata": {
  "kernelspec": {
   "display_name": "Python 3",
   "language": "python",
   "name": "python3"
  },
  "language_info": {
   "codemirror_mode": {
    "name": "ipython",
    "version": 3
   },
   "file_extension": ".py",
   "mimetype": "text/x-python",
   "name": "python",
   "nbconvert_exporter": "python",
   "pygments_lexer": "ipython3",
   "version": "3.6.13"
  }
 },
 "nbformat": 4,
 "nbformat_minor": 5
}
