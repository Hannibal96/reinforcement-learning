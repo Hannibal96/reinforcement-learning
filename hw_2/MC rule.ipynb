{
 "cells": [
  {
   "cell_type": "code",
   "execution_count": 1,
   "id": "surgical-trail",
   "metadata": {},
   "outputs": [],
   "source": [
    "import numpy as np"
   ]
  },
  {
   "cell_type": "code",
   "execution_count": 2,
   "id": "threaded-distributor",
   "metadata": {},
   "outputs": [],
   "source": [
    "bin = lambda x : ''.join(reversed( [str((x >> i) & 1) for i in range(jobs)] ) )\n",
    "def calc_cost_per_state(problem_table, state):\n",
    "    in_jobs = bin(state)\n",
    "    in_jobs=in_jobs[::-1]\n",
    "    cost = 0\n",
    "    for idx, job in enumerate(in_jobs):\n",
    "        if int(job):\n",
    "            cost += problem_table[1, idx]\n",
    "    return cost"
   ]
  },
  {
   "cell_type": "code",
   "execution_count": 3,
   "id": "ranking-bosnia",
   "metadata": {},
   "outputs": [],
   "source": [
    "def calc_p(problem_table, policy):\n",
    "    P = np.zeros([states, states])\n",
    "    for row in range(states):\n",
    "        for col in range(states):\n",
    "            curr_state = row\n",
    "            next_state = col\n",
    "            if curr_state > 0:\n",
    "                possible_next_state = curr_state - 2 ** (policy[curr_state] - 1)\n",
    "            if curr_state == 0:\n",
    "                if next_state == 0:\n",
    "                    P[row,col] = 1\n",
    "                else:\n",
    "                    P[row,col] = 0\n",
    "                continue\n",
    "            if next_state == possible_next_state:\n",
    "                P[row,col] = problem_table[0, policy[curr_state] - 1]\n",
    "            elif next_state == curr_state:\n",
    "                P[row,col] = 1 - problem_table[0, policy[curr_state] - 1]\n",
    "            else:\n",
    "                P[row,col] = 0\n",
    "    return P\n",
    "            "
   ]
  },
  {
   "cell_type": "code",
   "execution_count": 31,
   "id": "dated-traffic",
   "metadata": {},
   "outputs": [],
   "source": [
    "jobs = 5\n",
    "states = 2 ** jobs\n",
    "cost = np.zeros([states])\n",
    "problem_table = np.array([\n",
    "    [0.6, 0.5, 0.3, 0.7, 0.1],\n",
    "    [1,     4,   6,   2,   9]\n",
    "])\n",
    "\n",
    "for state in range(states):\n",
    "    cost[state] = calc_cost_per_state(problem_table=problem_table, state=state)\n",
    "    \n",
    "policy = np.array([\n",
    "    0, 1, 2, 1, 3, 1, 3, 1,  # \n",
    "    4, 1, 4, 1, 4, 1, 4, 1,  # \n",
    "    5, 1, 5, 1, 5, 1, 5, 1,  #\n",
    "    5, 1, 5, 1, 5, 1, 5, 1   # \n",
    "])\n",
    "p = calc_p(problem_table, policy)\n"
   ]
  },
  {
   "cell_type": "code",
   "execution_count": 18,
   "id": "moving-projector",
   "metadata": {
    "scrolled": true
   },
   "outputs": [],
   "source": []
  },
  {
   "cell_type": "code",
   "execution_count": null,
   "id": "mental-fabric",
   "metadata": {},
   "outputs": [],
   "source": []
  }
 ],
 "metadata": {
  "kernelspec": {
   "display_name": "Python 3",
   "language": "python",
   "name": "python3"
  },
  "language_info": {
   "codemirror_mode": {
    "name": "ipython",
    "version": 3
   },
   "file_extension": ".py",
   "mimetype": "text/x-python",
   "name": "python",
   "nbconvert_exporter": "python",
   "pygments_lexer": "ipython3",
   "version": "3.6.13"
  }
 },
 "nbformat": 4,
 "nbformat_minor": 5
}
