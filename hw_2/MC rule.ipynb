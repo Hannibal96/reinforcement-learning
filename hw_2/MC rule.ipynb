{
 "cells": [
  {
   "cell_type": "code",
   "execution_count": 1,
   "id": "refined-playlist",
   "metadata": {},
   "outputs": [],
   "source": [
    "import numpy as np"
   ]
  },
  {
   "cell_type": "code",
   "execution_count": 2,
   "id": "configured-sixth",
   "metadata": {},
   "outputs": [],
   "source": [
    "bin = lambda x : ''.join(reversed( [str((x >> i) & 1) for i in range(jobs)] ) )\n",
    "def calc_cost_per_state(problem_table, state):\n",
    "    in_jobs = bin(state)\n",
    "    in_jobs=in_jobs[::-1]\n",
    "    cost = 0\n",
    "    for idx, job in enumerate(in_jobs):\n",
    "        if int(job):\n",
    "            cost += problem_table[1, idx]\n",
    "    return cost"
   ]
  },
  {
   "cell_type": "code",
   "execution_count": 3,
   "id": "oriented-place",
   "metadata": {},
   "outputs": [],
   "source": [
    "def calc_p(problem_table, policy):\n",
    "    P = np.zeros([states, states])\n",
    "    for row in range(states):\n",
    "        for col in range(states):\n",
    "            curr_state = row\n",
    "            next_state = col\n",
    "            if curr_state > 0:\n",
    "                possible_next_state = curr_state - 2 ** (policy[curr_state] - 1)\n",
    "            if curr_state == 0:\n",
    "                if next_state == 0:\n",
    "                    P[row,col] = 1\n",
    "                else:\n",
    "                    P[row,col] = 0\n",
    "                continue\n",
    "            if next_state == possible_next_state:\n",
    "                P[row,col] = problem_table[0, policy[curr_state] - 1]\n",
    "            elif next_state == curr_state:\n",
    "                P[row,col] = 1 - problem_table[0, policy[curr_state] - 1]\n",
    "            else:\n",
    "                P[row,col] = 0\n",
    "    return P\n",
    "            "
   ]
  },
  {
   "cell_type": "code",
   "execution_count": 42,
   "id": "together-immune",
   "metadata": {},
   "outputs": [],
   "source": [
    "def get_v(p, r):\n",
    "    return np.linalg.inv(np.identity(len(r))-0.9*p) * r\n",
    "\n",
    "def get_v_iteration(p, r):\n",
    "    v = np.ones([len(r)])\n",
    "    v_new = np.zeros([len(r)])\n",
    "    while not (v == v_new).all():\n",
    "        v = v_new.copy()\n",
    "        v_new = r + p @ v\n",
    "    return v"
   ]
  },
  {
   "cell_type": "code",
   "execution_count": 49,
   "id": "static-russia",
   "metadata": {},
   "outputs": [],
   "source": [
    "jobs = 5\n",
    "states = 2 ** jobs\n",
    "cost = np.zeros([states])\n",
    "problem_table = np.array([\n",
    "    [0.6, 0.5, 0.3, 0.7, 0.1],\n",
    "    [1,     4,   6,   2,   9]\n",
    "])\n",
    "\n",
    "for state in range(states):\n",
    "    cost[state] = calc_cost_per_state(problem_table=problem_table, state=state)\n",
    "    \n",
    "policy = np.array([\n",
    "    0, 1, 2, 1, 3, 1, 3, 1,  # \n",
    "    4, 1, 4, 1, 4, 1, 4, 1,  # \n",
    "    5, 1, 5, 1, 5, 1, 5, 1,  #\n",
    "    5, 1, 5, 1, 5, 1, 5, 1   # \n",
    "])\n",
    "p = calc_p(problem_table, policy)\n"
   ]
  },
  {
   "cell_type": "code",
   "execution_count": 48,
   "id": "interstate-diagnosis",
   "metadata": {
    "scrolled": true
   },
   "outputs": [
    {
     "data": {
      "text/plain": [
       "array([  0.        ,  10.        ,   8.        ,  58.        ,\n",
       "        20.        ,  90.        ,  41.33333333, 151.33333333,\n",
       "         2.85714286,  32.85714286,  16.57142857,  86.57142857,\n",
       "        31.42857143, 121.42857143,  58.47619048, 188.47619048,\n",
       "        90.        , 190.        , 138.        , 278.        ,\n",
       "       170.        , 330.        , 231.33333333, 431.33333333,\n",
       "       112.85714286, 232.85714286, 166.57142857, 326.57142857,\n",
       "       201.42857143, 381.42857143, 268.47619048, 488.47619048])"
      ]
     },
     "execution_count": 48,
     "metadata": {},
     "output_type": "execute_result"
    }
   ],
   "source": [
    "get_v_iteration(p,cost)"
   ]
  },
  {
   "cell_type": "code",
   "execution_count": 46,
   "id": "natural-oxford",
   "metadata": {},
   "outputs": [
    {
     "data": {
      "text/plain": [
       "array([[ 0. ,  0. ,  0. , ...,  0. ,  0. ,  0. ],\n",
       "       [-1. ,  1. ,  0. , ...,  0. ,  0. ,  0. ],\n",
       "       [-0.5,  0. ,  0.5, ...,  0. ,  0. ,  0. ],\n",
       "       ...,\n",
       "       [ 0. ,  0. ,  0. , ...,  1. ,  0. ,  0. ],\n",
       "       [ 0. ,  0. ,  0. , ...,  0. ,  0.1,  0. ],\n",
       "       [ 0. ,  0. ,  0. , ...,  0. , -1. ,  1. ]])"
      ]
     },
     "execution_count": 46,
     "metadata": {},
     "output_type": "execute_result"
    }
   ],
   "source": [
    "np.identity(len(cost))-p"
   ]
  },
  {
   "cell_type": "code",
   "execution_count": null,
   "id": "promotional-diana",
   "metadata": {},
   "outputs": [],
   "source": []
  }
 ],
 "metadata": {
  "kernelspec": {
   "display_name": "Python 3",
   "language": "python",
   "name": "python3"
  },
  "language_info": {
   "codemirror_mode": {
    "name": "ipython",
    "version": 3
   },
   "file_extension": ".py",
   "mimetype": "text/x-python",
   "name": "python",
   "nbconvert_exporter": "python",
   "pygments_lexer": "ipython3",
   "version": "3.6.13"
  }
 },
 "nbformat": 4,
 "nbformat_minor": 5
}
