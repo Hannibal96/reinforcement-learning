{
 "cells": [
  {
   "cell_type": "code",
   "execution_count": 1,
   "id": "bearing-october",
   "metadata": {},
   "outputs": [],
   "source": [
    "import numpy as np"
   ]
  },
  {
   "cell_type": "code",
   "execution_count": 2,
   "id": "sudden-envelope",
   "metadata": {},
   "outputs": [],
   "source": [
    "bin = lambda x : ''.join(reversed( [str((x >> i) & 1) for i in range(jobs)] ) )\n",
    "def calc_cost_per_state(problem_table, state):\n",
    "    in_jobs = bin(state)\n",
    "    in_jobs=in_jobs[::-1]\n",
    "    cost = 0\n",
    "    for idx, job in enumerate(in_jobs):\n",
    "        if int(job):\n",
    "            cost += problem_table[1, idx]\n",
    "    return cost"
   ]
  },
  {
   "cell_type": "code",
   "execution_count": 3,
   "id": "decreased-government",
   "metadata": {},
   "outputs": [],
   "source": [
    "def calc_p(problem_table, policy):\n",
    "    P = np.zeros([states, states])\n",
    "    for row in range(states):\n",
    "        for col in range(states):\n",
    "            curr_state = row\n",
    "            next_state = col\n",
    "            if curr_state > 0:\n",
    "                possible_next_state = curr_state - 2 ** (int(policy[curr_state]) - 1)\n",
    "            if curr_state == 0:\n",
    "                if next_state == 0:\n",
    "                    P[row,col] = 1\n",
    "                else:\n",
    "                    P[row,col] = 0\n",
    "                continue\n",
    "            if next_state == possible_next_state:\n",
    "                P[row,col] = problem_table[0, int(policy[curr_state]) - 1]\n",
    "            elif next_state == curr_state:\n",
    "                P[row,col] = 1 - problem_table[0, int(policy[curr_state]) - 1]\n",
    "            else:\n",
    "                P[row,col] = 0\n",
    "    return P\n",
    "            "
   ]
  },
  {
   "cell_type": "code",
   "execution_count": 4,
   "id": "oriental-prince",
   "metadata": {},
   "outputs": [],
   "source": [
    "def get_v(p, r):\n",
    "    return np.linalg.inv(np.identity(len(r))-0.9*p) * r\n",
    "\n",
    "def get_v_iteration(p, r):\n",
    "    v = np.ones([len(r)])\n",
    "    v_new = np.zeros([len(r)])\n",
    "    while not (v == v_new).all():\n",
    "        v = v_new.copy()\n",
    "        v_new = r + p @ v\n",
    "    return v"
   ]
  },
  {
   "cell_type": "code",
   "execution_count": 5,
   "id": "closed-groove",
   "metadata": {},
   "outputs": [],
   "source": [
    "def get_policy_c(table, state):\n",
    "    in_jobs = bin(state)\n",
    "    in_jobs=in_jobs[::-1]\n",
    "    max_c = -1\n",
    "    max_idx = -1\n",
    "    for idx, job in enumerate(in_jobs):\n",
    "        if int(job):\n",
    "            cost = problem_table[1, idx]\n",
    "            if cost > max_c:\n",
    "                max_c = cost\n",
    "                max_idx = idx\n",
    "    return max_idx+1"
   ]
  },
  {
   "cell_type": "code",
   "execution_count": 6,
   "id": "continuous-economics",
   "metadata": {},
   "outputs": [],
   "source": [
    "def is_action_valid(state, action):\n",
    "    in_jobs = bin(state)\n",
    "    in_jobs=in_jobs[::-1]\n",
    "    return bool(int(in_jobs[action-1]))\n",
    "\n",
    "def get_temp_p(state, action):\n",
    "    p = np.zeros([2 ** jobs])\n",
    "    possible_next_state = state - 2 ** (action - 1)\n",
    "    p[possible_next_state] = problem_table[0, action - 1]\n",
    "    p[state] = 1 - problem_table[0, action - 1]\n",
    "    return p\n",
    "\n",
    "def get_new_policy(r, v):\n",
    "    num_states = 32\n",
    "    policy = np.zeros([num_states])\n",
    "    for state in range(num_states):\n",
    "        min_action_val = 10000000\n",
    "        min_action = -1\n",
    "        for a in range(1,jobs+1):\n",
    "            if is_action_valid(state=state, action=a):\n",
    "                val = r[state]+get_temp_p(state=state, action=a) @ v\n",
    "                if val < min_action_val:\n",
    "                    min_action_val = val\n",
    "                    min_action = a\n",
    "        policy[state] = min_action\n",
    "    return policy\n",
    "        \n",
    "\n",
    "def policy_iteration(r, table):\n",
    "    num_states = 2 ** len(table[0])\n",
    "    new_policy = np.zeros([num_states])\n",
    "    for state in range(num_states):\n",
    "        new_policy[state] = get_policy_c(table=table, state=state)\n",
    "    policy = np.zeros([num_states])\n",
    "    while not (new_policy == policy).all():\n",
    "        print(\"*\"*20)\n",
    "        print(new_policy)\n",
    "        policy = new_policy.copy()\n",
    "        p = calc_p(problem_table=table, policy=policy)\n",
    "        v = get_v_iteration(p=p, r=r)\n",
    "        print(v)\n",
    "        new_policy = get_new_policy(r=r, v=v)\n",
    "    return policy\n",
    "        "
   ]
  },
  {
   "cell_type": "code",
   "execution_count": 7,
   "id": "wooden-chinese",
   "metadata": {},
   "outputs": [],
   "source": [
    "jobs = 5\n",
    "states = 2 ** jobs\n",
    "cost = np.zeros([states])\n",
    "problem_table = np.array([\n",
    "    [0.6, 0.5, 0.3, 0.7, 0.1],\n",
    "    [1,     4,   6,   2,   9]\n",
    "])\n",
    "\n",
    "for state in range(states):\n",
    "    cost[state] = calc_cost_per_state(problem_table=problem_table, state=state)\n",
    "    \n",
    "policy = np.array([\n",
    "    0, 1, 2, 1, 3, 1, 3, 1,  # \n",
    "    4, 1, 4, 1, 4, 1, 4, 1,  # \n",
    "    5, 1, 5, 1, 5, 1, 5, 1,  #\n",
    "    5, 1, 5, 1, 5, 1, 5, 1   # \n",
    "])\n",
    "p = calc_p(problem_table, policy)\n"
   ]
  },
  {
   "cell_type": "code",
   "execution_count": 8,
   "id": "skilled-consciousness",
   "metadata": {},
   "outputs": [
    {
     "name": "stdout",
     "output_type": "stream",
     "text": [
      "********************\n",
      "[0. 1. 2. 2. 3. 3. 3. 3. 4. 4. 2. 2. 3. 3. 3. 3. 5. 5. 5. 5. 5. 5. 5. 5.\n",
      " 5. 5. 5. 5. 5. 5. 5. 5.]\n",
      "[  0.           1.66666667   8.          11.66666667  20.\n",
      "  25.          41.33333333  48.33333333   2.85714286   5.95238095\n",
      "  14.85714286  19.95238095  29.52380952  35.95238095  54.85714286\n",
      "  63.28571429  90.         101.66666667 138.         151.66666667\n",
      " 170.         185.         231.33333333 248.33333333 112.85714286\n",
      " 125.95238095 164.85714286 179.95238095 199.52380952 215.95238095\n",
      " 264.85714286 283.28571429]\n",
      "********************\n",
      "[-1.  1.  2.  2.  3.  3.  2.  2.  4.  4.  2.  2.  3.  3.  2.  2.  5.  5.\n",
      "  2.  2.  3.  3.  2.  2.  4.  4.  2.  2.  3.  3.  2.  2.]\n",
      "[  0.           1.66666667   8.          11.66666667  20.\n",
      "  25.          40.          47.           2.85714286   5.95238095\n",
      "  14.85714286  19.95238095  29.52380952  35.95238095  53.52380952\n",
      "  61.95238095  90.         101.66666667 116.         129.66666667\n",
      " 140.         155.         178.         195.         105.71428571\n",
      " 118.80952381 135.71428571 150.80952381 162.38095238 178.80952381\n",
      " 204.38095238 222.80952381]\n"
     ]
    },
    {
     "data": {
      "text/plain": [
       "array([-1.,  1.,  2.,  2.,  3.,  3.,  2.,  2.,  4.,  4.,  2.,  2.,  3.,\n",
       "        3.,  2.,  2.,  5.,  5.,  2.,  2.,  3.,  3.,  2.,  2.,  4.,  4.,\n",
       "        2.,  2.,  3.,  3.,  2.,  2.])"
      ]
     },
     "execution_count": 8,
     "metadata": {},
     "output_type": "execute_result"
    }
   ],
   "source": [
    "policy_iteration(r=cost, table=problem_table)"
   ]
  },
  {
   "cell_type": "code",
   "execution_count": null,
   "id": "selective-collar",
   "metadata": {},
   "outputs": [],
   "source": []
  }
 ],
 "metadata": {
  "kernelspec": {
   "display_name": "Python 3",
   "language": "python",
   "name": "python3"
  },
  "language_info": {
   "codemirror_mode": {
    "name": "ipython",
    "version": 3
   },
   "file_extension": ".py",
   "mimetype": "text/x-python",
   "name": "python",
   "nbconvert_exporter": "python",
   "pygments_lexer": "ipython3",
   "version": "3.6.13"
  }
 },
 "nbformat": 4,
 "nbformat_minor": 5
}
