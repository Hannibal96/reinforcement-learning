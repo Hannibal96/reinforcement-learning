{
 "cells": [
  {
   "cell_type": "code",
   "execution_count": 35,
   "id": "bearing-retail",
   "metadata": {},
   "outputs": [],
   "source": [
    "import numpy as np"
   ]
  },
  {
   "cell_type": "code",
   "execution_count": 45,
   "id": "conservative-locator",
   "metadata": {},
   "outputs": [],
   "source": [
    "jobs = 5\n",
    "states = 2 ** jobs\n",
    "cost = np.zeros([states])\n",
    "problem_table = np.array([\n",
    "    [0.6, 0.5, 0.3, 0.7, 0.1],\n",
    "    [1,     4,   6,   2,   9]\n",
    "])\n",
    "\n",
    "for state in range(states):\n",
    "    cost[state] = calc_cost_per_state(problem_table=problem_table, state=state)\n",
    "    \n",
    "policy = np.array([\n",
    "    0, 1, 2, 1, 3, 1, 3, 1,  # \n",
    "    4, 1, 4, 1, 4, 1, 4, 1,  # \n",
    "    5, 1, 5, 1, 5, 1, 5, 1,  #\n",
    "    5, 1, 5, 1, 5, 1, 5, 1   # \n",
    "])"
   ]
  },
  {
   "cell_type": "code",
   "execution_count": 39,
   "id": "straight-winner",
   "metadata": {},
   "outputs": [],
   "source": [
    "bin = lambda x : ''.join(reversed( [str((x >> i) & 1) for i in range(jobs)] ) )\n",
    "def calc_cost_per_state(problem_table, state):\n",
    "    in_jobs = bin(state)\n",
    "    in_jobs=in_jobs[::-1]\n",
    "    cost = 0\n",
    "    for idx, job in enumerate(in_jobs):\n",
    "        if int(job):\n",
    "            cost += problem_table[1, idx]\n",
    "    return cost"
   ]
  },
  {
   "cell_type": "code",
   "execution_count": 66,
   "id": "valid-surname",
   "metadata": {},
   "outputs": [],
   "source": [
    "def calc_p(problem_table, policy):\n",
    "    P = np.zeros([states, states])\n",
    "    for row in range(states):\n",
    "        for col in range(states):\n",
    "            curr_state = row\n",
    "            next_state = col\n",
    "            if curr_state > 0:\n",
    "                possible_next_state = curr_state - 2 ** (policy[curr_state] - 1)\n",
    "            if curr_state == 0:\n",
    "                if next_state == 0:\n",
    "                    P[row,col] = 1\n",
    "                else:\n",
    "                    P[row,col] = 0\n",
    "                continue\n",
    "            if next_state == possible_next_state:\n",
    "                P[row,col] = problem_table[0, policy[curr_state] - 1]\n",
    "            elif next_state == curr_state:\n",
    "                P[row,col] = 1 - problem_table[0, policy[curr_state] - 1]\n",
    "            else:\n",
    "                P[row,col] = 0\n",
    "    return P\n",
    "            "
   ]
  },
  {
   "cell_type": "code",
   "execution_count": 67,
   "id": "tired-auction",
   "metadata": {},
   "outputs": [
    {
     "data": {
      "text/plain": [
       "array([[1. , 0. , 0. , ..., 0. , 0. , 0. ],\n",
       "       [0.6, 0.4, 0. , ..., 0. , 0. , 0. ],\n",
       "       [0.5, 0. , 0.5, ..., 0. , 0. , 0. ],\n",
       "       ...,\n",
       "       [0. , 0. , 0. , ..., 0.4, 0. , 0. ],\n",
       "       [0. , 0. , 0. , ..., 0. , 0.9, 0. ],\n",
       "       [0. , 0. , 0. , ..., 0. , 0.6, 0.4]])"
      ]
     },
     "execution_count": 67,
     "metadata": {},
     "output_type": "execute_result"
    }
   ],
   "source": [
    "calc_p(problem_table, policy)"
   ]
  },
  {
   "cell_type": "code",
   "execution_count": 60,
   "id": "certified-logging",
   "metadata": {},
   "outputs": [],
   "source": [
    "P = np.zeros([states, states])"
   ]
  },
  {
   "cell_type": "code",
   "execution_count": 61,
   "id": "centered-caribbean",
   "metadata": {},
   "outputs": [
    {
     "data": {
      "text/plain": [
       "array([[0., 0., 0., ..., 0., 0., 0.],\n",
       "       [0., 0., 0., ..., 0., 0., 0.],\n",
       "       [0., 0., 0., ..., 0., 0., 0.],\n",
       "       ...,\n",
       "       [0., 0., 0., ..., 0., 0., 0.],\n",
       "       [0., 0., 0., ..., 0., 0., 0.],\n",
       "       [0., 0., 0., ..., 0., 0., 0.]])"
      ]
     },
     "execution_count": 61,
     "metadata": {},
     "output_type": "execute_result"
    }
   ],
   "source": [
    "P"
   ]
  },
  {
   "cell_type": "code",
   "execution_count": null,
   "id": "polar-castle",
   "metadata": {},
   "outputs": [],
   "source": []
  }
 ],
 "metadata": {
  "kernelspec": {
   "display_name": "Python 3",
   "language": "python",
   "name": "python3"
  },
  "language_info": {
   "codemirror_mode": {
    "name": "ipython",
    "version": 3
   },
   "file_extension": ".py",
   "mimetype": "text/x-python",
   "name": "python",
   "nbconvert_exporter": "python",
   "pygments_lexer": "ipython3",
   "version": "3.6.13"
  }
 },
 "nbformat": 4,
 "nbformat_minor": 5
}
